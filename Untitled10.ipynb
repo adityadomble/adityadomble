{
  "nbformat": 4,
  "nbformat_minor": 0,
  "metadata": {
    "colab": {
      "provenance": []
    },
    "kernelspec": {
      "name": "python3",
      "display_name": "Python 3"
    },
    "language_info": {
      "name": "python"
    }
  },
  "cells": [
    {
      "cell_type": "code",
      "execution_count": 1,
      "metadata": {
        "colab": {
          "base_uri": "https://localhost:8080/"
        },
        "id": "QTD_H4SR-9Pp",
        "outputId": "9135d609-c323-41e1-dff6-c20c101f8239"
      },
      "outputs": [
        {
          "output_type": "stream",
          "name": "stdout",
          "text": [
            "4\n",
            "43\n",
            "432\n",
            "4321\n"
          ]
        }
      ],
      "source": [
        "num=1234\n",
        "rev_num =0\n",
        "\n",
        "while num >0:\n",
        "  temp = num % 10 #last digit delete\n",
        "  rev_num = rev_num*10+temp\n",
        "  num=num//10 # delete last digit\n",
        "\n",
        "  print(rev_num)"
      ]
    },
    {
      "cell_type": "code",
      "source": [],
      "metadata": {
        "id": "PQiJFDZLADQ0"
      },
      "execution_count": null,
      "outputs": []
    },
    {
      "cell_type": "markdown",
      "source": [
        "#conditional statements"
      ],
      "metadata": {
        "id": "TsV7WXUeAZB-"
      }
    },
    {
      "cell_type": "markdown",
      "source": [
        "#if - Else\n",
        "#if - Elif\n",
        "pass ,continue,break\n"
      ],
      "metadata": {
        "id": "oGMJRXqCAxJT"
      }
    },
    {
      "cell_type": "code",
      "source": [
        "num =int(input(\"enter first number:-\"))\n",
        "\n",
        "if num>0:\n",
        "  print(\"the number is positive\")\n",
        "else:\n",
        "    print(\"the number is negative\")\n",
        "\n",
        "\n",
        "\n"
      ],
      "metadata": {
        "colab": {
          "base_uri": "https://localhost:8080/"
        },
        "id": "j-3O5WizAcZQ",
        "outputId": "a39d4f5b-d166-4153-c502-f6c71ae5dda7"
      },
      "execution_count": 4,
      "outputs": [
        {
          "output_type": "stream",
          "name": "stdout",
          "text": [
            "enter first number:-85\n",
            "the number is positive\n"
          ]
        }
      ]
    },
    {
      "cell_type": "code",
      "source": [
        "num =int(input(\"enter first number:-\"))\n",
        "\n",
        "if num>0:\n",
        "  print(\"the number is positive\")\n",
        "else:\n",
        "    print(\"the number is negative\")\n",
        "\n",
        "\n"
      ],
      "metadata": {
        "colab": {
          "base_uri": "https://localhost:8080/"
        },
        "id": "03KHsJ5JAs8O",
        "outputId": "53e1222c-e3da-4f31-8a09-13e1b5a958e0"
      },
      "execution_count": 15,
      "outputs": [
        {
          "output_type": "stream",
          "name": "stdout",
          "text": [
            "enter first number:-52\n",
            "the number is positive\n"
          ]
        }
      ]
    },
    {
      "cell_type": "code",
      "source": [
        "num =float(input(\"enter first number:-\"))\n",
        "\n",
        "if num>0:\n",
        "  print(\"the number is positive\")\n",
        "else:\n",
        "    print(\"the number is negative\")\n"
      ],
      "metadata": {
        "colab": {
          "base_uri": "https://localhost:8080/"
        },
        "id": "6HwARTguEWTc",
        "outputId": "a4604a0d-a8fc-4923-ed29-d3ddf85d56d4"
      },
      "execution_count": 16,
      "outputs": [
        {
          "output_type": "stream",
          "name": "stdout",
          "text": [
            "enter first number:-20.5\n",
            "the number is positive\n"
          ]
        }
      ]
    },
    {
      "cell_type": "code",
      "source": [
        "# even- odd"
      ],
      "metadata": {
        "id": "DPmp9BpCCiD-"
      },
      "execution_count": 17,
      "outputs": []
    },
    {
      "cell_type": "code",
      "source": [
        "num =56\n",
        "\n",
        "if num % 2==0:\n",
        "  print(\"even number\")\n",
        "\n",
        "else:\n",
        "  print(\"odd number\")"
      ],
      "metadata": {
        "colab": {
          "base_uri": "https://localhost:8080/"
        },
        "id": "sZ10OVi0Dg1q",
        "outputId": "732ae438-69fe-4822-c12e-60cded9291f6"
      },
      "execution_count": 12,
      "outputs": [
        {
          "output_type": "stream",
          "name": "stdout",
          "text": [
            "even number\n"
          ]
        }
      ]
    },
    {
      "cell_type": "code",
      "source": [
        "num =12\n",
        "\n",
        "if num % 2==0:"
      ],
      "metadata": {
        "id": "DEEeBxDgDzBU"
      },
      "execution_count": null,
      "outputs": []
    },
    {
      "cell_type": "code",
      "source": [
        "#voting elegibillity"
      ],
      "metadata": {
        "id": "Oi6mte3zEz5L"
      },
      "execution_count": 18,
      "outputs": []
    },
    {
      "cell_type": "code",
      "source": [
        "age=int(input(\"enter your age:-\"))\n",
        "\n",
        "if age>=18:\n",
        "  print(\"your are eligible for vote\")\n",
        "else:\n",
        "    print(\"your are not elegible for vote\")"
      ],
      "metadata": {
        "colab": {
          "base_uri": "https://localhost:8080/"
        },
        "id": "H1D7fCAeE3DJ",
        "outputId": "65ff3bcf-4d4e-492b-9bb1-8a24722f88d3"
      },
      "execution_count": 25,
      "outputs": [
        {
          "output_type": "stream",
          "name": "stdout",
          "text": [
            "enter your age:-18\n",
            "your are eligible for vote\n"
          ]
        }
      ]
    },
    {
      "cell_type": "code",
      "source": [
        "age=int(input(\"enter your age:-\"))\n",
        "\n",
        "if age>18:\n",
        "  print(\"your are eligible for vote\")\n",
        "else:\n",
        "    print(\"your are not elegible \")"
      ],
      "metadata": {
        "colab": {
          "base_uri": "https://localhost:8080/"
        },
        "id": "Ht8rWX0yFJMX",
        "outputId": "5481beb9-aa8a-4bbf-bbbd-b2b21167d2e6"
      },
      "execution_count": 24,
      "outputs": [
        {
          "output_type": "stream",
          "name": "stdout",
          "text": [
            "enter your age:-4\n",
            "your are not elegible\n"
          ]
        }
      ]
    },
    {
      "cell_type": "code",
      "source": [
        "age  = 16\n",
        "if age >=16:\n",
        "  print(\"your are eligible for vote\")\n",
        "else:\n",
        "    print(\"your are not elegible \")"
      ],
      "metadata": {
        "colab": {
          "base_uri": "https://localhost:8080/"
        },
        "id": "AfdzVuvbFtVZ",
        "outputId": "f75a8952-1629-4395-b593-1812a4eac9ae"
      },
      "execution_count": 26,
      "outputs": [
        {
          "output_type": "stream",
          "name": "stdout",
          "text": [
            "your are eligible for vote\n"
          ]
        }
      ]
    },
    {
      "cell_type": "code",
      "source": [
        "marks =85\n",
        "\n",
        "   if   marks>=90:\n",
        "    print(\"grade A\")\n",
        "\n",
        " elif marks >=80:\n",
        "    print(\"grade B\")\n",
        " elif marks >=70:\n",
        "      print(\"grade C\")\n",
        " elif marks>=60:\n",
        "      print('grade'D)\n",
        " else:\n",
        "      print('fail')\n",
        "\n"
      ],
      "metadata": {
        "colab": {
          "base_uri": "https://localhost:8080/",
          "height": 106
        },
        "id": "MmJhRJStGMyg",
        "outputId": "b5c5d927-2a6b-43bb-9a99-a8999de711f9"
      },
      "execution_count": 43,
      "outputs": [
        {
          "output_type": "error",
          "ename": "IndentationError",
          "evalue": "unindent does not match any outer indentation level (<tokenize>, line 6)",
          "traceback": [
            "\u001b[0;36m  File \u001b[0;32m\"<tokenize>\"\u001b[0;36m, line \u001b[0;32m6\u001b[0m\n\u001b[0;31m    elif marks >=80:\u001b[0m\n\u001b[0m    ^\u001b[0m\n\u001b[0;31mIndentationError\u001b[0m\u001b[0;31m:\u001b[0m unindent does not match any outer indentation level\n"
          ]
        }
      ]
    },
    {
      "cell_type": "code",
      "source": [
        "marks = 50\n",
        "\n",
        "if marks >= 90:\n",
        "    print(\"grade A\")\n",
        "elif marks >= 80:\n",
        "    print(\"grade B\")\n",
        "elif marks >= 70:\n",
        "    print(\"grade C\")\n",
        "elif marks >= 60:\n",
        "    print(\"grade D\")\n",
        "else:\n",
        "    print('fail')"
      ],
      "metadata": {
        "colab": {
          "base_uri": "https://localhost:8080/"
        },
        "id": "_Rtvc9YSH_2K",
        "outputId": "fcef916f-2689-4a7e-bc1f-5459c5139bad"
      },
      "execution_count": 39,
      "outputs": [
        {
          "output_type": "stream",
          "name": "stdout",
          "text": [
            "fail\n"
          ]
        }
      ]
    },
    {
      "cell_type": "code",
      "source": [
        "#positive , negative,zero\n"
      ],
      "metadata": {
        "id": "vZQwi3sgIvv_"
      },
      "execution_count": 44,
      "outputs": []
    },
    {
      "cell_type": "code",
      "source": [
        "# whivh number is greater ,from 3 number\n",
        "#a=15 ,b=10,c=20"
      ],
      "metadata": {
        "id": "0_2z8sOwJ7_U"
      },
      "execution_count": null,
      "outputs": []
    }
  ]
}