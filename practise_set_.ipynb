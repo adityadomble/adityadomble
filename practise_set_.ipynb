{
  "cells": [
    {
      "cell_type": "code",
      "execution_count": null,
      "metadata": {
        "colab": {
          "base_uri": "https://localhost:8080/"
        },
        "id": "GEVxKrS1MV_r",
        "outputId": "f8c1138f-162b-47f9-d3a1-e0d4bb04978d"
      },
      "outputs": [
        {
          "name": "stdout",
          "output_type": "stream",
          "text": [
            "enter first number52\n",
            "enter second number12\n",
            "num is largest number\n"
          ]
        }
      ],
      "source": [
        "num = int(input(\"enter first number\"))\n",
        "num2 = int(input(\"enter second number\"))\n",
        "if num>=num2:\n",
        "  print(\"num is largest number\")\n",
        "\n",
        "elif num>=num2:\n",
        "  print(\"num2 is the smallest number\")\n",
        "\n",
        "\n"
      ]
    },
    {
      "cell_type": "code",
      "execution_count": null,
      "metadata": {
        "colab": {
          "base_uri": "https://localhost:8080/"
        },
        "id": "FHCOlLnDPGnR",
        "outputId": "216e49ff-2bd9-4286-e58d-8db3bccda657"
      },
      "outputs": [
        {
          "data": {
            "text/plain": [
              "<function print(*args, sep=' ', end='\\n', file=None, flush=False)>"
            ]
          },
          "execution_count": 7,
          "metadata": {},
          "output_type": "execute_result"
        }
      ],
      "source": [
        "print"
      ]
    },
    {
      "cell_type": "code",
      "execution_count": null,
      "metadata": {
        "colab": {
          "base_uri": "https://localhost:8080/"
        },
        "id": "gcot3HebQq-K",
        "outputId": "ef40e6a8-6ad4-4378-ec65-456e8f05cc8a"
      },
      "outputs": [
        {
          "name": "stdout",
          "output_type": "stream",
          "text": [
            "14\n",
            "number is not  divisible by 5 & 7 \n"
          ]
        }
      ],
      "source": [
        "num=int(input())\n",
        "if num %5==0 and num %7==0:\n",
        "\n",
        "  print(\"number is divisible by 5 and 7\")\n",
        "\n",
        "else:\n",
        "  print(\"number is not  divisible by 5 & 7 \")\n",
        "\n"
      ]
    },
    {
      "cell_type": "code",
      "execution_count": null,
      "metadata": {
        "colab": {
          "base_uri": "https://localhost:8080/"
        },
        "id": "4jpUmcP8SPN9",
        "outputId": "2178a15f-c88f-4d5e-87a0-2a506804ccc0"
      },
      "outputs": [
        {
          "name": "stdout",
          "output_type": "stream",
          "text": [
            "49\n",
            "number is divided by 5\n"
          ]
        }
      ],
      "source": [
        "if num %7==0:\n",
        "  num = int(input())\n",
        "\n",
        "  print(\"number is divisible by 7\")\n",
        "elif num %5==0:\n",
        "  num=int(input())\n",
        "\n",
        "  print(\"number is divided by 5\")\n",
        "\n",
        "\n"
      ]
    },
    {
      "cell_type": "code",
      "execution_count": null,
      "metadata": {
        "colab": {
          "base_uri": "https://localhost:8080/"
        },
        "id": "0DQSnbe8UoRy",
        "outputId": "c2d2baf1-0bee-4fc7-f01d-fbb186a1a6af"
      },
      "outputs": [
        {
          "name": "stdout",
          "output_type": "stream",
          "text": [
            "35\n",
            "number is divisible by 5 and 7\n"
          ]
        }
      ],
      "source": [
        "num=int(input())\n",
        "if num %5==0 and num %7==0:\n",
        "\n",
        "  print(\"number is divisible by 5 and 7\")\n",
        "\n",
        "else:\n",
        "  print(\"number is not  divisible by 5 & 7 \")\n"
      ]
    },
    {
      "cell_type": "code",
      "execution_count": null,
      "metadata": {
        "colab": {
          "base_uri": "https://localhost:8080/"
        },
        "id": "V31nezcSWd_J",
        "outputId": "78b259f1-ab80-493d-c642-4cf770f8d834"
      },
      "outputs": [
        {
          "name": "stdout",
          "output_type": "stream",
          "text": [
            "enter a year 2008\n",
            "leap year\n"
          ]
        }
      ],
      "source": [
        "year =int(input('enter a year'))\n",
        "if (year % 4 == 0 and year % 100 != 0) or (year % 400 == 0):\n",
        "  print(\"leap year\")\n",
        "else:\n",
        "    print(\"not leap year\")\n",
        "    print(\"not leap year\")\n"
      ]
    },
    {
      "cell_type": "code",
      "execution_count": null,
      "metadata": {
        "colab": {
          "base_uri": "https://localhost:8080/"
        },
        "id": "KNaLTH4OZwfJ",
        "outputId": "fb5f1bbb-cb9c-407b-f110-e02179b496de"
      },
      "outputs": [
        {
          "output_type": "stream",
          "name": "stdout",
          "text": [
            "enter a marks225\n",
            "grade A\n"
          ]
        }
      ],
      "source": [
        "num = int(input(\"enter a marks\"))\n",
        "if num>=90:\n",
        "  print(\"grade A\")\n",
        "elif num==80:\n",
        "  print(\"grade B\")\n",
        "elif num>=70:\n",
        "    print(\"grade C\")\n",
        "elif num >=60:\n",
        "  print(\"grade D\")\n",
        "else :\n",
        "  print(\"grade E\")\n",
        "\n",
        "\n",
        "\n",
        "\n"
      ]
    },
    {
      "cell_type": "code",
      "execution_count": null,
      "metadata": {
        "id": "IU68UWqMUeyo",
        "colab": {
          "base_uri": "https://localhost:8080/"
        },
        "outputId": "4f3d2548-69c5-4992-9b54-dd013b45e940"
      },
      "outputs": [
        {
          "output_type": "stream",
          "name": "stdout",
          "text": [
            "g\n",
            "not valid\n"
          ]
        }
      ],
      "source": [
        "gender = input()\n",
        "\n",
        "if gender==\"M\" or gender =='f':\n",
        "   print(\"gender\")\n",
        "else :\n",
        "  print(\"not valid\")\n"
      ]
    },
    {
      "cell_type": "code",
      "source": [
        "gender = input()\n",
        "\n",
        "if gender==\"M\" or gender =='f':\n",
        "   print(\"gender\")\n",
        "else :\n",
        "\n",
        "  print(\"not valid\")\n"
      ],
      "metadata": {
        "colab": {
          "base_uri": "https://localhost:8080/"
        },
        "id": "k67XHVaGA57s",
        "outputId": "55ac938e-d932-44b2-e83a-9d2c9ac92f7c"
      },
      "execution_count": null,
      "outputs": [
        {
          "output_type": "stream",
          "name": "stdout",
          "text": [
            "M\n",
            "gender\n"
          ]
        }
      ]
    },
    {
      "cell_type": "code",
      "source": [
        "# ERITE A PROGRM TO CHECK NUMBER BEETWEEN 1 TO 100"
      ],
      "metadata": {
        "id": "EzWNrujiC1tT"
      },
      "execution_count": null,
      "outputs": []
    },
    {
      "cell_type": "code",
      "source": [
        "num = int(input((\"Enter a number :\")))\n",
        "\n",
        "\n",
        "if 1<= num <=100:\n",
        "\n",
        "\n",
        "          print(\"number is beet 1 and 100\")\n",
        "else :\n",
        "\n",
        "         print(\"number is not  beet 1 and 100\")"
      ],
      "metadata": {
        "colab": {
          "base_uri": "https://localhost:8080/"
        },
        "id": "HeAs88QzDeqR",
        "outputId": "dd54264f-def4-47fd-f1db-dd36c7673d44"
      },
      "execution_count": null,
      "outputs": [
        {
          "output_type": "stream",
          "name": "stdout",
          "text": [
            "Enter a number : 565\n",
            "number is not  beet 1 and 100\n"
          ]
        }
      ]
    },
    {
      "cell_type": "code",
      "source": [
        "i =int(input((\"Enter a num\")))\n",
        "\n",
        "\n",
        "if 1<=i<=100 :\n",
        "\n",
        "\n",
        "       print(\"the num is beet 1 to 100\")\n",
        "else :\n",
        "\n",
        "       print(\"num is not bet 1 to 100\")\n"
      ],
      "metadata": {
        "colab": {
          "base_uri": "https://localhost:8080/"
        },
        "id": "gPPVQNjjD7eN",
        "outputId": "95dcf0eb-8696-496d-f638-790444ded968"
      },
      "execution_count": null,
      "outputs": [
        {
          "output_type": "stream",
          "name": "stdout",
          "text": [
            "Enter a num 45\n",
            "the num is beet 1 to 100\n"
          ]
        }
      ]
    },
    {
      "cell_type": "code",
      "source": [
        "angle1: (\"Enter The first angle of the triangle\")\n",
        "angle2: (\" Enter The second angle of the triangle\")\n",
        "angle3: (\"Enter third angle of the triangle\")\n",
        "\n",
        "if angle1 + angle2 + angle3 == 180:\n",
        "    print(\"True\")\n",
        "else :\n",
        "    print(\"false\")"
      ],
      "metadata": {
        "colab": {
          "base_uri": "https://localhost:8080/",
          "height": 211
        },
        "id": "jit2sVZnE6he",
        "outputId": "3f4b3c8f-09ed-4649-bdae-ffa924a3c21d"
      },
      "execution_count": null,
      "outputs": [
        {
          "output_type": "error",
          "ename": "NameError",
          "evalue": "name 'angle1' is not defined",
          "traceback": [
            "\u001b[0;31m---------------------------------------------------------------------------\u001b[0m",
            "\u001b[0;31mNameError\u001b[0m                                 Traceback (most recent call last)",
            "\u001b[0;32m<ipython-input-69-8f85bc935cfb>\u001b[0m in \u001b[0;36m<cell line: 0>\u001b[0;34m()\u001b[0m\n\u001b[1;32m      3\u001b[0m \u001b[0mangle3\u001b[0m\u001b[0;34m:\u001b[0m \u001b[0;34m(\u001b[0m\u001b[0;34m\"Enter third angle of the triangle\"\u001b[0m\u001b[0;34m)\u001b[0m\u001b[0;34m\u001b[0m\u001b[0;34m\u001b[0m\u001b[0m\n\u001b[1;32m      4\u001b[0m \u001b[0;34m\u001b[0m\u001b[0m\n\u001b[0;32m----> 5\u001b[0;31m \u001b[0;32mif\u001b[0m \u001b[0mangle1\u001b[0m \u001b[0;34m+\u001b[0m \u001b[0mangle2\u001b[0m \u001b[0;34m+\u001b[0m \u001b[0mangle3\u001b[0m \u001b[0;34m==\u001b[0m \u001b[0;36m180\u001b[0m\u001b[0;34m:\u001b[0m\u001b[0;34m\u001b[0m\u001b[0;34m\u001b[0m\u001b[0m\n\u001b[0m\u001b[1;32m      6\u001b[0m     \u001b[0mprint\u001b[0m\u001b[0;34m(\u001b[0m\u001b[0;34m\"True\"\u001b[0m\u001b[0;34m)\u001b[0m\u001b[0;34m\u001b[0m\u001b[0;34m\u001b[0m\u001b[0m\n\u001b[1;32m      7\u001b[0m \u001b[0;32melse\u001b[0m \u001b[0;34m:\u001b[0m\u001b[0;34m\u001b[0m\u001b[0;34m\u001b[0m\u001b[0m\n",
            "\u001b[0;31mNameError\u001b[0m: name 'angle1' is not defined"
          ]
        }
      ]
    },
    {
      "cell_type": "code",
      "source": [
        "angle1 = float(input(\"Enter the first angle: \"))\n",
        "angle2 = float(input(\"Enter the second angle: \"))\n",
        "angle3 = float(input(\"Enter the third angle: \")\n",
        "\n",
        "if is_valid_triangle(angle1, angle2, angle3):\n",
        "\n",
        "  print(\"The triangle is valid.\")\n",
        "else:\n",
        "\n",
        "  print(\"The triangle is not valid.\")"
      ],
      "metadata": {
        "colab": {
          "base_uri": "https://localhost:8080/",
          "height": 109
        },
        "id": "HGKTmeEGKX3K",
        "outputId": "52d2acd4-6a09-4666-a351-63e62a66d32e"
      },
      "execution_count": 72,
      "outputs": [
        {
          "output_type": "error",
          "ename": "SyntaxError",
          "evalue": "'(' was never closed (<ipython-input-72-76b95c180390>, line 3)",
          "traceback": [
            "\u001b[0;36m  File \u001b[0;32m\"<ipython-input-72-76b95c180390>\"\u001b[0;36m, line \u001b[0;32m3\u001b[0m\n\u001b[0;31m    angle3 = float(input(\"Enter the third angle: \")\u001b[0m\n\u001b[0m                  ^\u001b[0m\n\u001b[0;31mSyntaxError\u001b[0m\u001b[0;31m:\u001b[0m '(' was never closed\n"
          ]
        }
      ]
    },
    {
      "cell_type": "code",
      "source": [
        "angle1 = float(input(\"Enter the first angle: \"))\n",
        "angle2 = float(input(\"Enter the second angle: \"))\n",
        "angle3 = float(input(\"Enter the third angle: \"))\n",
        "\n",
        "if is_valid_triangle (angle1, angle2, angle3):\n",
        "\n",
        "  print(\"The triangle is valid.\")\n",
        "else:\n",
        "\n",
        "  print(\"The triangle is not valid.\")\n",
        "\n",
        "  print(\"The triangle is valid.\")\n",
        "\n"
      ],
      "metadata": {
        "id": "ejAO64FgLzuW",
        "colab": {
          "base_uri": "https://localhost:8080/",
          "height": 252
        },
        "outputId": "5a191b4a-33c9-4c33-f745-92f53072772b"
      },
      "execution_count": 76,
      "outputs": [
        {
          "name": "stdout",
          "output_type": "stream",
          "text": [
            "Enter the first angle: 545\n",
            "Enter the second angle: \n"
          ]
        },
        {
          "output_type": "error",
          "ename": "ValueError",
          "evalue": "could not convert string to float: ''",
          "traceback": [
            "\u001b[0;31m---------------------------------------------------------------------------\u001b[0m",
            "\u001b[0;31mValueError\u001b[0m                                Traceback (most recent call last)",
            "\u001b[0;32m<ipython-input-76-7245a508e27a>\u001b[0m in \u001b[0;36m<cell line: 0>\u001b[0;34m()\u001b[0m\n\u001b[1;32m      1\u001b[0m \u001b[0mangle1\u001b[0m \u001b[0;34m=\u001b[0m \u001b[0mfloat\u001b[0m\u001b[0;34m(\u001b[0m\u001b[0minput\u001b[0m\u001b[0;34m(\u001b[0m\u001b[0;34m\"Enter the first angle: \"\u001b[0m\u001b[0;34m)\u001b[0m\u001b[0;34m)\u001b[0m\u001b[0;34m\u001b[0m\u001b[0;34m\u001b[0m\u001b[0m\n\u001b[0;32m----> 2\u001b[0;31m \u001b[0mangle2\u001b[0m \u001b[0;34m=\u001b[0m \u001b[0mfloat\u001b[0m\u001b[0;34m(\u001b[0m\u001b[0minput\u001b[0m\u001b[0;34m(\u001b[0m\u001b[0;34m\"Enter the second angle: \"\u001b[0m\u001b[0;34m)\u001b[0m\u001b[0;34m)\u001b[0m\u001b[0;34m\u001b[0m\u001b[0;34m\u001b[0m\u001b[0m\n\u001b[0m\u001b[1;32m      3\u001b[0m \u001b[0mangle3\u001b[0m \u001b[0;34m=\u001b[0m \u001b[0mfloat\u001b[0m\u001b[0;34m(\u001b[0m\u001b[0minput\u001b[0m\u001b[0;34m(\u001b[0m\u001b[0;34m\"Enter the third angle: \"\u001b[0m\u001b[0;34m)\u001b[0m\u001b[0;34m)\u001b[0m\u001b[0;34m\u001b[0m\u001b[0;34m\u001b[0m\u001b[0m\n\u001b[1;32m      4\u001b[0m \u001b[0;34m\u001b[0m\u001b[0m\n\u001b[1;32m      5\u001b[0m \u001b[0;32mif\u001b[0m \u001b[0mis_valid_triangle\u001b[0m \u001b[0;34m(\u001b[0m\u001b[0mangle1\u001b[0m\u001b[0;34m,\u001b[0m \u001b[0mangle2\u001b[0m\u001b[0;34m,\u001b[0m \u001b[0mangle3\u001b[0m\u001b[0;34m)\u001b[0m\u001b[0;34m:\u001b[0m\u001b[0;34m\u001b[0m\u001b[0;34m\u001b[0m\u001b[0m\n",
            "\u001b[0;31mValueError\u001b[0m: could not convert string to float: ''"
          ]
        }
      ]
    },
    {
      "cell_type": "code",
      "source": [
        "A train ticket fare is determined as follows:\n",
        "   - Age < 5: Free\n",
        "   - Age 5-18: 50% of full fare\n",
        "   - Age 18-60: Full fare\n",
        "   - Age 60+: 30% discount on full fare\n",
        "   - Ask the user for their age and print the applicable fare for a ₹500 ticket."
      ],
      "metadata": {
        "id": "DzH2cn2wSReI"
      },
      "execution_count": null,
      "outputs": []
    },
    {
      "cell_type": "code",
      "source": [
        "age = int(input(\"Enter your age: \"))\n",
        "full_fare = 500\n",
        "\n",
        "if age < 5:\n",
        "  fare = 0\n",
        "elif age >= 5 and age <= 18:\n",
        "  fare = full_fare * 0.5\n",
        "elif age > 18 and age <= 60:\n",
        "  fare = full_fare\n",
        "else:\n",
        "  fare = full_fare - (full_fare * 0.3)\n",
        "\n",
        "print(\"Your applicable fare is: ₹\", fare)"
      ],
      "metadata": {
        "colab": {
          "base_uri": "https://localhost:8080/"
        },
        "id": "tIqTu94RU0LG",
        "outputId": "5ad5b2f5-7a86-4d60-8fd9-6a36c8ccf254"
      },
      "execution_count": 77,
      "outputs": [
        {
          "output_type": "stream",
          "name": "stdout",
          "text": [
            "Enter your age: 12\n",
            "Your applicable fare is: ₹ 250.0\n"
          ]
        }
      ]
    },
    {
      "cell_type": "code",
      "source": [
        "salary = float(input(\"Enter the employee's salary: \"))\n",
        "\n",
        "if salary < 50000:\n",
        "  bonus = salary * 0.10\n",
        "else:\n",
        "  bonus = salary * 0.05\n",
        "\n",
        "print(\"The bonus amount is:  ₹\", bonus)\n"
      ],
      "metadata": {
        "colab": {
          "base_uri": "https://localhost:8080/"
        },
        "id": "_Drxkiz-U0-r",
        "outputId": "6df901fd-1990-4f9e-9da8-90fe3efcc996"
      },
      "execution_count": 87,
      "outputs": [
        {
          "output_type": "stream",
          "name": "stdout",
          "text": [
            "Enter the employee's salary: 5000000\n",
            "The bonus amount is:  ₹ 250000.0\n"
          ]
        }
      ]
    },
    {
      "cell_type": "code",
      "source": [
        "num1 = int(input(\"Enter the first number: \"))\n",
        "num2 = int(input(\"Enter the second number: \"))\n",
        "num3 = int(input(\"Enter the third number: \"))\n",
        "\n",
        "\n",
        "sorted_numbers = sorted([num1, num2, num3])\n",
        "\n",
        "print(\"Numbers in ascending order:\", sorted_numbers)"
      ],
      "metadata": {
        "colab": {
          "base_uri": "https://localhost:8080/"
        },
        "id": "EpQMdO94VUiA",
        "outputId": "2d9771d5-ab38-491a-d880-3ed30474c075"
      },
      "execution_count": 88,
      "outputs": [
        {
          "output_type": "stream",
          "name": "stdout",
          "text": [
            "Enter the first number: 2\n",
            "Enter the second number: 5\n",
            "Enter the third number: 6\n",
            "Numbers in ascending order: [2, 5, 6]\n"
          ]
        }
      ]
    },
    {
      "cell_type": "code",
      "source": [],
      "metadata": {
        "id": "Ku5nLNc6X_7l"
      },
      "execution_count": null,
      "outputs": []
    }
  ],
  "metadata": {
    "colab": {
      "provenance": []
    },
    "kernelspec": {
      "display_name": "Python 3",
      "name": "python3"
    },
    "language_info": {
      "name": "python"
    }
  },
  "nbformat": 4,
  "nbformat_minor": 0
}